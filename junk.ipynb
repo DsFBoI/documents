{
 "cells": [
  {
   "cell_type": "code",
   "execution_count": 3,
   "metadata": {},
   "outputs": [],
   "source": [
    "import jpeg_toolbox"
   ]
  },
  {
   "cell_type": "code",
   "execution_count": 34,
   "metadata": {},
   "outputs": [],
   "source": [
    "img = jpeg_toolbox.load('./src/image/input.jpeg')\n",
    "img2 = jpeg_toolbox.load('./src/image/output.jpeg')"
   ]
  },
  {
   "cell_type": "code",
   "execution_count": 35,
   "metadata": {},
   "outputs": [
    {
     "data": {
      "text/plain": [
       "np.float64(99.0)"
      ]
     },
     "execution_count": 35,
     "metadata": {},
     "output_type": "execute_result"
    }
   ],
   "source": [
    "img['coef_arrays'][0][0][8]"
   ]
  },
  {
   "cell_type": "code",
   "execution_count": 36,
   "metadata": {},
   "outputs": [
    {
     "data": {
      "text/plain": [
       "np.float64(99.0)"
      ]
     },
     "execution_count": 36,
     "metadata": {},
     "output_type": "execute_result"
    }
   ],
   "source": [
    "img2['coef_arrays'][0][0][8]"
   ]
  },
  {
   "cell_type": "code",
   "execution_count": 93,
   "metadata": {},
   "outputs": [
    {
     "data": {
      "text/plain": [
       "array([[-17.,   0.,   0., ...,   0.,   0.,   0.],\n",
       "       [  2.,   0.,   0., ...,   0.,   0.,   0.],\n",
       "       [  0.,   0.,   0., ...,   0.,   0.,   0.],\n",
       "       ...,\n",
       "       [  0.,   0.,   0., ...,   0.,   0.,   0.],\n",
       "       [  0.,   0.,   0., ...,   0.,   0.,   0.],\n",
       "       [  0.,   0.,   0., ...,   0.,   0.,   0.]], shape=(1000, 1504))"
      ]
     },
     "execution_count": 93,
     "metadata": {},
     "output_type": "execute_result"
    }
   ],
   "source": [
    "img['coef_arrays'][1]"
   ]
  },
  {
   "cell_type": "code",
   "execution_count": 94,
   "metadata": {},
   "outputs": [
    {
     "data": {
      "text/plain": [
       "array([[-17.,   0.,   0., ...,   0.,   0.,   0.],\n",
       "       [  2.,   0.,   0., ...,   0.,   0.,   0.],\n",
       "       [  0.,   0.,   0., ...,   0.,   0.,   0.],\n",
       "       ...,\n",
       "       [  0.,   0.,   0., ...,   0.,   0.,   0.],\n",
       "       [  0.,   0.,   0., ...,   0.,   0.,   0.],\n",
       "       [  0.,   0.,   0., ...,   0.,   0.,   0.]], shape=(1000, 1504))"
      ]
     },
     "execution_count": 94,
     "metadata": {},
     "output_type": "execute_result"
    }
   ],
   "source": [
    "img2['coef_arrays'][1]"
   ]
  },
  {
   "cell_type": "code",
   "execution_count": 95,
   "metadata": {},
   "outputs": [
    {
     "data": {
      "text/plain": [
       "array([[13.,  0.,  0., ...,  0.,  0.,  0.],\n",
       "       [ 0.,  0.,  0., ...,  0.,  0.,  0.],\n",
       "       [ 0.,  0.,  0., ...,  0.,  0.,  0.],\n",
       "       ...,\n",
       "       [ 0.,  0.,  0., ...,  0.,  0.,  0.],\n",
       "       [ 0.,  0.,  0., ...,  0.,  0.,  0.],\n",
       "       [ 0.,  0.,  0., ...,  0.,  0.,  0.]], shape=(1000, 1504))"
      ]
     },
     "execution_count": 95,
     "metadata": {},
     "output_type": "execute_result"
    }
   ],
   "source": [
    "img['coef_arrays'][2]"
   ]
  },
  {
   "cell_type": "code",
   "execution_count": 96,
   "metadata": {},
   "outputs": [
    {
     "data": {
      "text/plain": [
       "array([[13.,  0.,  0., ...,  0.,  0.,  0.],\n",
       "       [ 0.,  0.,  0., ...,  0.,  0.,  0.],\n",
       "       [ 0.,  0.,  0., ...,  0.,  0.,  0.],\n",
       "       ...,\n",
       "       [ 0.,  0.,  0., ...,  0.,  0.,  0.],\n",
       "       [ 0.,  0.,  0., ...,  0.,  0.,  0.],\n",
       "       [ 0.,  0.,  0., ...,  0.,  0.,  0.]], shape=(1000, 1504))"
      ]
     },
     "execution_count": 96,
     "metadata": {},
     "output_type": "execute_result"
    }
   ],
   "source": [
    "img2['coef_arrays'][2]"
   ]
  },
  {
   "cell_type": "code",
   "execution_count": 4,
   "metadata": {},
   "outputs": [
    {
     "data": {
      "text/plain": [
       "array([[ 6,  4,  4,  6,  9, 14, 18, 22],\n",
       "       [ 4,  4,  5,  7,  9, 21, 22, 20],\n",
       "       [ 5,  5,  6,  9, 14, 21, 25, 20],\n",
       "       [ 5,  6,  8, 10, 18, 31, 29, 22],\n",
       "       [ 6,  8, 13, 20, 24, 39, 37, 28],\n",
       "       [ 9, 13, 20, 23, 29, 37, 41, 33],\n",
       "       [18, 23, 28, 31, 37, 44, 43, 36],\n",
       "       [26, 33, 34, 35, 40, 36, 37, 36]], dtype=int32)"
      ]
     },
     "execution_count": 4,
     "metadata": {},
     "output_type": "execute_result"
    }
   ],
   "source": [
    "img[\"quant_tables\"][0]\n"
   ]
  },
  {
   "cell_type": "code",
   "execution_count": 5,
   "metadata": {},
   "outputs": [
    {
     "data": {
      "text/plain": [
       "np.float64(99.0)"
      ]
     },
     "execution_count": 5,
     "metadata": {},
     "output_type": "execute_result"
    }
   ],
   "source": [
    "img['coef_arrays'][0][0,8]"
   ]
  },
  {
   "cell_type": "code",
   "execution_count": null,
   "metadata": {},
   "outputs": [],
   "source": [
    "import os\n",
    "import jpeg_toolbox\n",
    "from src.program.encrip import hash_to_bits\n",
    "from src.program.hash_utils import generate_hash\n",
    "from src.program.db_utils import store_hash_and_message_in_db\n",
    "\n",
    "def cifrar_custom(message, input_image_path, output_image_path):\n",
    "    # [1] Generate hash\n",
    "    hash_128 = generate_hash(message, bits=128)\n",
    "    hash_bits = hash_to_bits(hash_128)\n",
    "\n",
    "    # [2] Store hash and message\n",
    "    store_hash_and_message_in_db(hash_128, message)\n",
    "\n",
    "    # [3] Load image\n",
    "    img = jpeg_toolbox.load(input_image_path)\n",
    "    quant_table = img['quant_tables'][0]\n",
    "    quant_00 = quant_table[0, 0]\n",
    "    coef_array = img['coef_arrays'][0].copy()\n",
    "\n",
    "    # [4] Embed hash\n",
    "    bit_idx = 0\n",
    "    for i in range(0, coef_array.shape[0], 8):\n",
    "        for j in range(0, coef_array.shape[1], 8):\n",
    "            if bit_idx >= len(hash_bits):\n",
    "                break\n",
    "            block = coef_array[i:i+8, j:j+8]\n",
    "            if block.shape != (8, 8):\n",
    "                continue\n",
    "            original_coef = int(block[0, 0])\n",
    "            quantized = original_coef * quant_00\n",
    "            is_negative = quantized < 0\n",
    "            bin_value = list(bin(abs(quantized))[2:].zfill(12))\n",
    "            for k in range(4):\n",
    "                if bit_idx + k < len(hash_bits):\n",
    "                    bin_value[-4 + k] = str(hash_bits[bit_idx + k])\n",
    "            bit_idx += 4\n",
    "            new_value = int(''.join(bin_value), 2)\n",
    "            if is_negative:\n",
    "                new_value = -new_value\n",
    "            new_coef = new_value // quant_00\n",
    "            block[0, 0] = new_coef\n",
    "            coef_array[i:i+8, j:j+8] = block\n",
    "        if bit_idx >= len(hash_bits):\n",
    "            break\n",
    "\n",
    "    # [5] Save modified image\n",
    "    img['coef_arrays'][0] = coef_array\n",
    "    jpeg_toolbox.save(img, output_image_path)\n",
    "\n",
    "# Main loop to generate 1000 entries\n",
    "input_image = './src/image/input.jpeg'\n",
    "for i in range(1000):\n",
    "    message = f\"Test message number {i}\"\n",
    "    os.environ[\"MESSAGE\"] = message\n",
    "    output_image = f\"./src/image/output_{i}.jpeg\"\n",
    "    print(f\"[{i}] Processing and saving to {output_image}\")\n",
    "    cifrar_custom(message, input_image, output_image)\n"
   ]
  }
 ],
 "metadata": {
  "kernelspec": {
   "display_name": "jpeg-env",
   "language": "python",
   "name": "python3"
  },
  "language_info": {
   "codemirror_mode": {
    "name": "ipython",
    "version": 3
   },
   "file_extension": ".py",
   "mimetype": "text/x-python",
   "name": "python",
   "nbconvert_exporter": "python",
   "pygments_lexer": "ipython3",
   "version": "3.12.3"
  }
 },
 "nbformat": 4,
 "nbformat_minor": 2
}
